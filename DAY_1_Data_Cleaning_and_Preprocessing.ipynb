{
  "nbformat": 4,
  "nbformat_minor": 0,
  "metadata": {
    "colab": {
      "provenance": []
    },
    "kernelspec": {
      "name": "python3",
      "display_name": "Python 3"
    },
    "language_info": {
      "name": "python"
    }
  },
  "cells": [
    {
      "cell_type": "code",
      "execution_count": 23,
      "metadata": {
        "id": "a0kJ3QRcQlIL",
        "colab": {
          "base_uri": "https://localhost:8080/"
        },
        "outputId": "3c2cb4c1-742f-43d3-b92e-20d5e536f744"
      },
      "outputs": [
        {
          "output_type": "stream",
          "name": "stdout",
          "text": [
            "Pregnant               0\n",
            "Glucose                5\n",
            "Diastolic_BP          35\n",
            "Skin_Fold            227\n",
            "Serum_Insulin        374\n",
            "BMI                   11\n",
            "Diabetes_Pedigree      0\n",
            "Age                    0\n",
            "Class                  0\n",
            "dtype: int64\n"
          ]
        }
      ],
      "source": [
        "import pandas as pd\n",
        "df = pd.read_csv(\"Diabetes Missing Data.csv\")\n",
        "print(df.isnull().sum())"
      ]
    },
    {
      "cell_type": "code",
      "source": [
        "import pandas as pd\n",
        "df = pd.read_csv(\"Diabetes Missing Data.csv\")\n",
        "df = df.dropna()\n",
        "df['Glucose'] = df['Glucose'].fillna(df['Glucose'].mean())\n",
        "df['Diastolic_BP'] = df['Diastolic_BP'].fillna(df['Diastolic_BP'].mean())\n",
        "df['Skin_Fold'] = df['Skin_Fold'].fillna(df['Skin_Fold'].mean())\n",
        "df['Serum_Insulin'] = df['Serum_Insulin'].fillna(df['Serum_Insulin'].mean())\n",
        "df['BMI'] = df['BMI'].fillna(df['BMI'].mean())\n",
        "df['Diabetes_Pedigree'] = df['Diabetes_Pedigree'].fillna(df['Diabetes_Pedigree'].mean())\n",
        "df['Age'] = df['Age'].fillna(df['Age'].mean())\n",
        "print(df.isnull().sum())"
      ],
      "metadata": {
        "colab": {
          "base_uri": "https://localhost:8080/"
        },
        "id": "23OaJHcnl2jP",
        "outputId": "aa5dc051-39b3-4fa0-a892-b9ff4f49ebfa"
      },
      "execution_count": 24,
      "outputs": [
        {
          "output_type": "stream",
          "name": "stdout",
          "text": [
            "Pregnant             0\n",
            "Glucose              0\n",
            "Diastolic_BP         0\n",
            "Skin_Fold            0\n",
            "Serum_Insulin        0\n",
            "BMI                  0\n",
            "Diabetes_Pedigree    0\n",
            "Age                  0\n",
            "Class                0\n",
            "dtype: int64\n"
          ]
        }
      ]
    },
    {
      "cell_type": "code",
      "source": [
        "import pandas as pd\n",
        "df = pd.read_csv(\"Diabetes Missing Data.csv\")\n",
        "df = df.drop_duplicates()"
      ],
      "metadata": {
        "id": "J8g5SosHosPz"
      },
      "execution_count": 25,
      "outputs": []
    },
    {
      "cell_type": "code",
      "source": [
        "import pandas as pd\n",
        "df = pd.read_csv(\"Diabetes Missing Data.csv\")\n",
        "df.rename(columns={'BMI':'Brain Medicine Injury'}, inplace=True)\n",
        "df.rename(columns={'Diastolic_BP':'Diastolic_Blood_Pressure'}, inplace=True)"
      ],
      "metadata": {
        "id": "H8NuMuQHqSFj"
      },
      "execution_count": 26,
      "outputs": []
    },
    {
      "cell_type": "code",
      "source": [
        "import pandas as pd\n",
        "df = pd.read_csv(\"Diabetes Missing Data.csv\")\n",
        "print(df.dtypes)\n",
        "df['Glucose'] = df['Glucose'].astype(int)\n",
        "df['Diastolic_BP'] = df['Diastolic_BP'].astype(int)\n",
        "df['Skin_Fold'] = df['Skin_Fold'].astype(int)\n",
        "df['Serum_Insulin'] = df['Serum_Insulin'].astype(int)"
      ],
      "metadata": {
        "id": "nOHUsDeKrM1v"
      },
      "execution_count": null,
      "outputs": []
    }
  ]
}